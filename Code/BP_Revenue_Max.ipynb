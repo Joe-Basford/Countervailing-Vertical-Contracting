{
 "cells": [
  {
   "cell_type": "code",
   "execution_count": 60,
   "id": "e06eb766",
   "metadata": {},
   "outputs": [],
   "source": [
    "import numpy as np\n",
    "from scipy.optimize import fsolve\n",
    "import scipy.integrate as integrate\n",
    "import matplotlib.pyplot as plt\n",
    "from matplotlib.ticker import StrMethodFormatter"
   ]
  },
  {
   "cell_type": "code",
   "execution_count": 61,
   "id": "0201cd59",
   "metadata": {},
   "outputs": [],
   "source": [
    "# Setup\n",
    "\n",
    "class Economy:\n",
    "    cl = 0\n",
    "    ch = 1\n",
    "    vl = 0\n",
    "    vh = 1\n",
    "    \n",
    "    def __init__(self,G,F,g,f):\n",
    "        self.G = G\n",
    "        self.g = g\n",
    "        self.F = F\n",
    "        self.f = f\n",
    "    \n",
    "    def B_virtual(self,x):\n",
    "        if x>=self.vh-1e-5:\n",
    "            y = self.vh-1e-5\n",
    "        elif x<=self.vl+1e-5:\n",
    "            y=self.vl+1e-5\n",
    "        else:\n",
    "            y=x\n",
    "        return y-(1-self.F(y))/self.f(y)\n",
    "    \n",
    "    def S_virtual(self,x):\n",
    "        if x>=self.ch-1e-5:\n",
    "            y = self.ch-1e-5\n",
    "        elif x<=self.cl+1e-5:\n",
    "            y=self.cl+1e-5\n",
    "        else:\n",
    "            y=x\n",
    "        return y+ self.G(y)/self.g(y)\n",
    "    \n",
    "    def royalty_p(self,x):\n",
    "        integral = integrate.quad(lambda y: self.G(self.B_virtual(y)), 0, x)[0]\n",
    "        return x - integral/(self.G(self.B_virtual(x)))\n",
    "    \n",
    "    def no_royalty_p(self,x):\n",
    "        return fsolve(lambda y: self.S_virtual(y)-x, 0.2)\n",
    "    \n",
    "    def BS_surp_royalty(self):\n",
    "        prob_trade = lambda y: self.G(self.B_virtual(y))\n",
    "        return integrate.quad(lambda y: prob_trade(y)*(y-self.royalty_p(y))*self.f(y),self.vl,self.vh)[0]\n",
    "    \n",
    "    def BS_surp_no_royalty(self):\n",
    "        prob_trade = lambda y: self.G(self.B_virtual(y))\n",
    "        return integrate.quad(lambda y: prob_trade(y)*(y-self.no_royalty_p(y))*self.f(y),self.vl,self.vh)[0]\n",
    "    \n",
    "    def welfare_royalty(self):\n",
    "        low_v =  fsolve(lambda y: self.B_virtual(y)-max(self.cl,self.B_virtual(self.vl)), 0.2)\n",
    "        return integrate.dblquad(lambda y,x: (x-y)*self.f(x)*self.g(y),low_v,self.vh,self.cl,self.B_virtual)[0]\n",
    "    \n",
    "    def welfare_no_royalty(self):\n",
    "        return integrate.dblquad(lambda y,x: (x-y)*self.f(x)*self.g(y),self.vl,self.vh,self.cl,self.no_royalty_p)[0]\n",
    "    \n",
    "        "
   ]
  },
  {
   "cell_type": "code",
   "execution_count": 72,
   "id": "39a02085",
   "metadata": {},
   "outputs": [],
   "source": [
    "# Define distributions\n",
    "\n",
    "def G(x,lam=2,cl=0,ch=1):\n",
    "        if x>= ch-1e-5:\n",
    "            y = ch-1e-2\n",
    "        elif x<= cl+1e-5:\n",
    "            y= cl+1e-5\n",
    "        else:\n",
    "            y=x\n",
    "        return (1-np.exp(-lam*y))/(1-np.exp(-lam))\n",
    "    \n",
    "def g(x,lam=2,cl=0,ch=1):\n",
    "    if x>= ch-1e-5:\n",
    "        y = ch-1e-5\n",
    "    elif x<= cl+1e-5:\n",
    "        y= cl+1e-5\n",
    "    else:\n",
    "        y=x\n",
    "    return (lam*np.exp(-lam*y))/(1-np.exp(-lam))\n",
    "    \n",
    "def F(x,vn,vl=0,vh=1):\n",
    "    if x>= vh-1e-5:\n",
    "        y = vh-1e-5\n",
    "    elif x<=vl+1e-5:\n",
    "        y=vl+1e-5\n",
    "    else:\n",
    "        y=x\n",
    "    return (y**vn-vl**vn)/(vh**vn-vl**vn)\n",
    "\n",
    "def f(x,vn,vl=0,vh=1):\n",
    "    if x>= vh-1e-5:\n",
    "        y = vh-1e-5\n",
    "    elif x<=vl+1e-5:\n",
    "        y=vl+1e-5\n",
    "    else:\n",
    "        y=x\n",
    "    return vn*(y**(vn-1))/(vh**vn-vl**vn)"
   ]
  },
  {
   "cell_type": "code",
   "execution_count": 73,
   "id": "906395b4",
   "metadata": {},
   "outputs": [
    {
     "name": "stderr",
     "output_type": "stream",
     "text": [
      "<ipython-input-61-78bf71b74ed6>:42: IntegrationWarning: The integral is probably divergent, or slowly convergent.\n",
      "  return integrate.quad(lambda y: prob_trade(y)*(y-self.royalty_p(y))*self.f(y),self.vl,self.vh)[0]\n"
     ]
    }
   ],
   "source": [
    "ns = np.linspace(1,3,100)\n",
    "\n",
    "welfares = {x : None for x in ns}\n",
    "\n",
    "good_royalties = []\n",
    "welfares_royalty = []\n",
    "welfares_no_royalties = []\n",
    "Royalties_Good = False\n",
    "for n in ns:\n",
    "    Fn = lambda x: F(x,n)\n",
    "    fn = lambda x: f(x,n)\n",
    "    Econ = Economy(G,Fn,g,fn)\n",
    "    n1 = Econ.BS_surp_royalty()\n",
    "    n2 = Econ.BS_surp_no_royalty()        \n",
    "    n3 = Econ.welfare_royalty()\n",
    "    n4 = Econ.welfare_no_royalty()\n",
    "    welfares_royalty.append(n3)\n",
    "    welfares_no_royalties.append(n4)\n",
    "    welfares[n] = (n3,n4)"
   ]
  },
  {
   "cell_type": "code",
   "execution_count": 74,
   "id": "1b42af27",
   "metadata": {},
   "outputs": [],
   "source": [
    "grid_size = len(ns)\n",
    "welfare_royalties_grid = np.empty([grid_size])\n",
    "welfare_no_royalties_grid = np.empty([grid_size])\n",
    "for i, n in enumerate(ns):\n",
    "    welfare_royalties_grid[i] = welfares[n][0]\n",
    "    welfare_no_royalties_grid[i] = welfares[n][1]"
   ]
  },
  {
   "cell_type": "code",
   "execution_count": 75,
   "id": "5498a95d",
   "metadata": {},
   "outputs": [
    {
     "data": {
      "image/png": "[encoded data removed]",
      "text/plain": [
       "<Figure size 432x288 with 1 Axes>"
      ]
     },
     "metadata": {
      "needs_background": "light"
     },
     "output_type": "display_data"
    }
   ],
   "source": [
    "pos_vals = []\n",
    "neg_vals = []\n",
    "for x in welfare_royalties_grid-welfare_no_royalties_grid:\n",
    "    if x>=0:\n",
    "        pos_vals.append(x)\n",
    "        neg_vals.append(None)\n",
    "    if x<=0:\n",
    "        neg_vals.append(x)\n",
    "        pos_vals.append(None)\n",
    "plt.plot(np.linspace(1,3,100),neg_vals, color='r',label='No royalties best')\n",
    "plt.plot(np.linspace(1,3,100),[0 for x in range(0,100)], color='g',linestyle='--',label='Equal')\n",
    "plt.plot(np.linspace(1,3,100),pos_vals, color='b', label='Royalties best')\n",
    "plt.xlabel(r\"$n$\") \n",
    "plt.ylabel(r\"Welfare\")\n",
    "plt.gca().yaxis.set_major_formatter(StrMethodFormatter('{x:,.2f}'))\n",
    "plt.legend()\n",
    "plt.title(r\"Change in welfare, royalties vs. no royalties\")\n",
    "plt.savefig('C:/Countervailing Paper/welfare_change_pos_neg', \n",
    "            bbox_inches='tight')"
   ]
  }
 ],
 "metadata": {
  "kernelspec": {
   "display_name": "Python 3",
   "language": "python",
   "name": "python3"
  },
  "language_info": {
   "codemirror_mode": {
    "name": "ipython",
    "version": 3
   },
   "file_extension": ".py",
   "mimetype": "text/x-python",
   "name": "python",
   "nbconvert_exporter": "python",
   "pygments_lexer": "ipython3",
   "version": "3.8.8"
  }
 },
 "nbformat": 4,
 "nbformat_minor": 5
}
